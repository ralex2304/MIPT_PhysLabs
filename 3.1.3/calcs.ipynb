{
 "cells": [
  {
   "cell_type": "code",
   "execution_count": 5,
   "metadata": {},
   "outputs": [],
   "source": [
    "import numpy as np\n",
    "import matplotlib.pyplot as plt\n",
    "import matplotlib as mpl\n",
    "import pandas as pd\n",
    "from scipy.optimize import curve_fit\n",
    "from lab_lib import *\n"
   ]
  },
  {
   "cell_type": "code",
   "execution_count": 11,
   "metadata": {},
   "outputs": [],
   "source": [
    "# sgs\n",
    "#            d,     m,   B_p\n",
    "balls = [[0.59, 0.791, 3054],\n",
    "         [0.59, 0.864, 3207],\n",
    "         [0.59, 0.816, 3133],\n",
    "         [0.59, 0.802, 3070],\n",
    "         [0.59, 0.816, 2118],\n",
    "         [0.59, 0.845, 2874],\n",
    "         [0.59, 0.838, 3064],\n",
    "         [0.59, 0.832, 3076],\n",
    "         [0.59, 0.820, 3070],\n",
    "         [0.59, 0.829, 3049],\n",
    "         [0.59, 0.840, 2829],\n",
    "         [0.59, 0.832, 3085]]\n",
    "\n",
    "balls_inacc = [0.01, 0.001, 1]\n",
    "\n",
    "r_max = [1.87, 2.14, 2.10, 2.05, 2.10, 2.10, 2.10, 2.10, 1.80, 1.80, 2.06]\n",
    "r_max_inacc = 0.01\n",
    "\n"
   ]
  },
  {
   "cell_type": "code",
   "execution_count": 7,
   "metadata": {},
   "outputs": [
    {
     "name": "stdout",
     "output_type": "stream",
     "text": [
      "\n",
      "\n",
      "\\begin{table}[!ht]\n",
      "    \\centering\n",
      "    \\begin{tabular}{|c|c|c|c|c|c|c|c|c|c|c|c|c|}\n",
      "        \\hline\n",
      "\n",
      "        \\# & 1 & 2 & 3 & 4 & 5 & 6 & 7 & 8 & 9 & 10 & 11 & 12\\\\ \\hline\n",
      "        $m, г$ & 0.791 & 0.864 & 0.816 & 0.802 & 0.816 & 0.845 & 0.838 & 0.832 & 0.820 & 0.829 & 0.840 & 0.832\\\\ \\hline\n",
      "\n",
      "    \\end{tabular}\n",
      "    \\caption{}\n",
      "    \\label{}\n",
      "\\end{table}\n",
      "\n",
      "$(0.827 \\pm 0.006)$\n"
     ]
    }
   ],
   "source": [
    "m_table = [[r\"\\#\"] + list(range(1, len(balls) + 1)),\n",
    "           [\"$m, г$\"] + [\"%.3f\" % (i[1]) for i in balls]]\n",
    "\n",
    "texTable(m_table)\n",
    "\n",
    "m_with_inacc = [[i[1], balls_inacc[1]] for i in balls]\n",
    "m_mean = meanWithInacc(m_with_inacc)\n",
    "print(texAns(m_mean))"
   ]
  },
  {
   "cell_type": "code",
   "execution_count": 6,
   "metadata": {},
   "outputs": [
    {
     "name": "stdout",
     "output_type": "stream",
     "text": [
      "\n",
      "\n",
      "\\begin{table}[!ht]\n",
      "    \\centering\n",
      "    \\begin{tabular}{|c|c|c|c|c|c|c|c|c|c|c|c|}\n",
      "        \\hline\n",
      "\n",
      "        \\# & 1 - 2 & 2 - 3 & 3 - 4 & 4 - 5 & 5 - 6 & 6 - 7 & 7 - 8 & 8 - 9 & 9 - 10 & 10 - 11 & 11 - 12\\\\ \\hline\n",
      "        $r_{max}, см$ & 1.87 & 2.14 & 2.10 & 2.05 & 2.10 & 2.10 & 2.10 & 2.10 & 1.80 & 1.80 & 2.06\\\\ \\hline\n",
      "\n",
      "    \\end{tabular}\n",
      "    \\caption{}\n",
      "    \\label{}\n",
      "\\end{table}\n",
      "\n",
      "$(2.02 \\pm 0.04)$\n"
     ]
    }
   ],
   "source": [
    "r_max_table = [[r\"\\#\"] + [str(i) + \" - \" + str(i + 1) for i in range(1, len(r_max) + 1)],\n",
    "               [r\"$r_{max}, см$\"] + [\"%.2f\" % (i) for i in r_max]]\n",
    "\n",
    "texTable(r_max_table)\n",
    "\n",
    "r_max_with_inacc = [[i, r_max_inacc] for i in r_max]\n",
    "r_max_mean = meanWithInacc(r_max_with_inacc)\n",
    "print(texAns(r_max_mean))"
   ]
  },
  {
   "cell_type": "code",
   "execution_count": 8,
   "metadata": {},
   "outputs": [
    {
     "name": "stdout",
     "output_type": "stream",
     "text": [
      "$(47 \\pm 2)$\n"
     ]
    }
   ],
   "source": [
    "P_m = countWithSigma(np.sqrt(m_mean[0] * 980.665 * r_max_mean[0]**4 / 6), [[m_mean[0], m_mean[1]/2], [r_max_mean[0], r_max_mean[1]*2]])\n",
    "print(texAns(P_m))"
   ]
  },
  {
   "cell_type": "code",
   "execution_count": 9,
   "metadata": {},
   "outputs": [
    {
     "name": "stdout",
     "output_type": "stream",
     "text": [
      "$(440 \\pm 30)$\n"
     ]
    }
   ],
   "source": [
    "balls_d_mean = meanWithInacc([[i[0], balls_inacc[0]] for i in balls])\n",
    "\n",
    "p_m = countWithSigma(P_m[0] / (4/3 * 3.14 * (balls_d_mean[0]/2)**3), [P_m, [balls_d_mean[0], balls_d_mean[1]*3]])\n",
    "\n",
    "print(texAns(p_m))"
   ]
  },
  {
   "cell_type": "code",
   "execution_count": 16,
   "metadata": {},
   "outputs": [
    {
     "name": "stdout",
     "output_type": "stream",
     "text": [
      "$(3700 \\pm 200)$\n"
     ]
    }
   ],
   "source": [
    "B_exp_with_inacc = countWithSigma(2 * P_m[0] / ((balls_d_mean[0] / 2)**3), [P_m, [balls_d_mean[0], balls_d_mean[1] * 3]])\n",
    "print(texAns(B_exp_with_inacc))"
   ]
  },
  {
   "cell_type": "code",
   "execution_count": 18,
   "metadata": {},
   "outputs": [
    {
     "name": "stdout",
     "output_type": "stream",
     "text": [
      "\n",
      "\n",
      "\\begin{table}[!ht]\n",
      "    \\centering\n",
      "    \\begin{tabular}{|c|c|c|c|c|c|c|c|c|c|c|c|c|}\n",
      "        \\hline\n",
      "\n",
      "        \\# & 1 & 2 & 3 & 4 & 5 & 6 & 7 & 8 & 9 & 10 & 11 & 12\\\\ \\hline\n",
      "        $B, ед. СГСЭ$ & 3054 & 3207 & 3133 & 3070 & 2118 & 2874 & 3064 & 3076 & 3070 & 3049 & 2829 & 3085\\\\ \\hline\n",
      "\n",
      "    \\end{tabular}\n",
      "    \\caption{}\n",
      "    \\label{}\n",
      "\\end{table}\n",
      "\n",
      "$(2970 \\pm 80)$\n"
     ]
    }
   ],
   "source": [
    "P_B_table = [[r\"\\#\"] + list(range(1, len(balls) + 1)),\n",
    "             [r\"$B, ед. СГСЭ$\"] + [i[2] for i in balls]]\n",
    "\n",
    "texTable(P_B_table)\n",
    "\n",
    "B_meas_with_inacc = [[i[2], balls_inacc[2]] for i in balls]\n",
    "B_meas_mean = meanWithInacc(B_meas_with_inacc)\n",
    "print(texAns(B_meas_mean))"
   ]
  },
  {
   "cell_type": "code",
   "execution_count": 19,
   "metadata": {},
   "outputs": [
    {
     "name": "stdout",
     "output_type": "stream",
     "text": [
      "$(5540 \\pm 30)$\n"
     ]
    }
   ],
   "source": [
    "B_r = [4 * 3.14 * p_m[0], p_m[1]]\n",
    "print(texAns(B_r))"
   ]
  }
 ],
 "metadata": {
  "kernelspec": {
   "display_name": "Python 3",
   "language": "python",
   "name": "python3"
  },
  "language_info": {
   "codemirror_mode": {
    "name": "ipython",
    "version": 3
   },
   "file_extension": ".py",
   "mimetype": "text/x-python",
   "name": "python",
   "nbconvert_exporter": "python",
   "pygments_lexer": "ipython3",
   "version": "3.12.5"
  }
 },
 "nbformat": 4,
 "nbformat_minor": 2
}
