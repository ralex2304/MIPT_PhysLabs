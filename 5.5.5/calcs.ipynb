{
    "cells": [
        {
            "cell_type": "code",
            "execution_count": null,
            "id": "306c36b3",
            "metadata": {
                "trusted": true
            },
            "outputs": [],
            "source": "import numpy as np\nimport math\nimport matplotlib.pyplot as plt\nimport matplotlib as mpl\nimport pandas as pd\nfrom scipy.optimize import curve_fit\nfrom lab_lib import *"
        },
        {
            "cell_type": "code",
            "execution_count": null,
            "id": "95b87c2d",
            "metadata": {
                "trusted": true
            },
            "outputs": [],
            "source": "def read_data(file):\n    raw_data = pd.read_csv(\"data/spectrum.csv\").to_numpy()\n    channel = [i[0] for i in raw_data]\n    counts  = [i[1] for i in raw_data]\n    return channel, counts\n\ndef spectrum_plot(channel, counts, title, file):\n    mpl.rcParams['font.size'] = 16\n    plt.figure(figsize = (10,8), facecolor = \"white\")\n\n    plt.title(title)\n    plt.ylabel(r\"$\u0421\u0447\u0451\u0442,~\u043e\u0442\u043d.~\u0435\u0434.$\")\n    plt.xlabel(r\"$\u041d\u043e\u043c\u0435\u0440~\u043a\u0430\u043d\u0430\u043b\u0430$\")\n\n    plt.errorbar(channel, counts, fmt='ob', label = '\u0420\u0435\u0437\u0443\u043b\u044c\u0442\u0430\u0442\u044b \u0438\u0437\u043c\u0435\u0440\u0435\u043d\u0438\u0439')\n\n    plt.grid(visible = True, which = 'major', axis = 'both', alpha = 1, linewidth = 0.9)\n    plt.grid(visible = True, which = 'minor', axis = 'both', alpha = 0.5, linestyle = ':')\n\n    plt.minorticks_on()\n    plt.tight_layout()\n    plt.legend(loc = \"best\", fontsize = 12)\n\n    plt.savefig(\"{}\".format(file))\n    plt.show()"
        },
        {
            "cell_type": "code",
            "execution_count": null,
            "id": "2e4190b2",
            "metadata": {
                "trusted": true
            },
            "outputs": [],
            "source": "\"\"\"\n6. Co\n\"\"\"\n\nco_maximums = []\nco_width = []\n\nco_channel, co_counts = read_data(\"data/co.csv\")\nspectrum_plot(co_channel, co_counts, \"\", \"\")"
        },
        {
            "cell_type": "code",
            "execution_count": null,
            "id": "09ffe8e2",
            "metadata": {
                "trusted": true
            },
            "outputs": [],
            "source": "\"\"\"\n7. Na, Cs, Am, Eu\n\"\"\""
        },
        {
            "cell_type": "code",
            "execution_count": null,
            "id": "fa8070bb",
            "metadata": {
                "trusted": true
            },
            "outputs": [],
            "source": "\"\"\"\n9. Cs - \u0434\u0440\u0443\u0433\u0430\u044f \u0443\u0441\u0442\u0430\u043d\u043e\u0432\u043a\u0430\n\"\"\""
        }
    ],
    "metadata": {
        "kernelspec": {
            "display_name": "Python 3 (ipykernel)",
            "language": "python",
            "name": "python3"
        },
        "language_info": {
            "codemirror_mode": {
                "name": "ipython",
                "version": 3
            },
            "file_extension": ".py",
            "mimetype": "text/x-python",
            "name": "python",
            "nbconvert_exporter": "python",
            "pygments_lexer": "ipython3",
            "version": "3.13.5"
        }
    },
    "nbformat": 4,
    "nbformat_minor": 5
}